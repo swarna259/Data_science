{
 "cells": [
  {
   "cell_type": "code",
   "execution_count": 6,
   "id": "8787d21b",
   "metadata": {},
   "outputs": [
    {
     "name": "stdout",
     "output_type": "stream",
     "text": [
      "enter the number of elements5\n",
      "enter t1he elements :6\n",
      "enter t1he elements :3\n",
      "enter t1he elements :4\n",
      "enter t1he elements :7\n",
      "enter t1he elements :2\n",
      "the created list is [6, 3, 4, 7, 2]\n",
      "range (without function): 5\n"
     ]
    }
   ],
   "source": [
    "#Without function\n",
    "data=[]\n",
    "n=int(input(\"enter the number of elements\"))\n",
    "for i in range(0,n):\n",
    "    ele=int(input(\"enter t1he elements :\"))\n",
    "    data.append(ele)\n",
    "print(\"the created list is\",data)\n",
    "minimum = maximum = data[0]\n",
    "for num in data:\n",
    "    if num <= minimum:\n",
    "        minimum = num\n",
    "    if num >= maximum:\n",
    "        maximum = num\n",
    "range_value = maximum - minimum\n",
    "print(\"range (without function):\", range_value)"
   ]
  },
  {
   "cell_type": "code",
   "execution_count": 7,
   "id": "07623f1a",
   "metadata": {},
   "outputs": [
    {
     "name": "stdout",
     "output_type": "stream",
     "text": [
      "The variance of the set without functions: 3.44\n"
     ]
    }
   ],
   "source": [
    "sum1=0\n",
    "for i in data:\n",
    "    sum1=sum1+i\n",
    "mean=sum1/len(data)\n",
    "variance = sum((item - mean) ** 2 for item in data) / (len(data))\n",
    "print(\"The variance of the set without functions:\", variance)"
   ]
  },
  {
   "cell_type": "code",
   "execution_count": 8,
   "id": "0fdf6314",
   "metadata": {},
   "outputs": [
    {
     "name": "stdout",
     "output_type": "stream",
     "text": [
      "Variance (with function): 3.44\n"
     ]
    }
   ],
   "source": [
    "import numpy as np\n",
    "print(\"Variance (with function):\", np.var(data))"
   ]
  },
  {
   "cell_type": "code",
   "execution_count": 9,
   "id": "cc47dd92",
   "metadata": {},
   "outputs": [
    {
     "name": "stdout",
     "output_type": "stream",
     "text": [
      "The standard deviation without using function is: 1.8547236990991407\n"
     ]
    }
   ],
   "source": [
    "std = variance ** 0.5\n",
    "print(\"The standard deviation without using function is:\", std)"
   ]
  },
  {
   "cell_type": "code",
   "execution_count": 10,
   "id": "cb52b003",
   "metadata": {},
   "outputs": [
    {
     "name": "stdout",
     "output_type": "stream",
     "text": [
      "standard deviation (with function): 1.8547236990991407\n"
     ]
    }
   ],
   "source": [
    "import numpy as np\n",
    "print(\"standard deviation (with function):\", np.std(data))"
   ]
  },
  {
   "cell_type": "code",
   "execution_count": 26,
   "id": "5ecbf92d",
   "metadata": {},
   "outputs": [
    {
     "name": "stdout",
     "output_type": "stream",
     "text": [
      "IQR without using function: 3.0\n"
     ]
    },
    {
     "name": "stderr",
     "output_type": "stream",
     "text": [
      "C:\\Users\\CCL\\AppData\\Local\\Temp\\ipykernel_15424\\2934291441.py:4: DeprecationWarning: the `interpolation=` argument to percentile was renamed to `method=`, which has additional options.\n",
      "Users of the modes 'nearest', 'lower', 'higher', or 'midpoint' are encouraged to review the method they used. (Deprecated NumPy 1.22)\n",
      "  q3, q1 = np.percentile(data, [75,25],interpolation='midpoint')\n"
     ]
    }
   ],
   "source": [
    "import numpy as np\n",
    "from scipy import stats\n",
    "# Calculate IQR without using function\n",
    "q3, q1 = np.percentile(data, [75,25],interpolation='midpoint')\n",
    "iqr = q3 - q1\n",
    "print(\"IQR without using function:\", iqr)"
   ]
  },
  {
   "cell_type": "code",
   "execution_count": 27,
   "id": "c6ec345b",
   "metadata": {},
   "outputs": [
    {
     "name": "stdout",
     "output_type": "stream",
     "text": [
      "IQR using function: 3.0\n"
     ]
    }
   ],
   "source": [
    "# Calculate IQR using function\n",
    "IQR = stats.iqr(data, interpolation='midpoint')\n",
    "print(\"IQR using function:\", IQR)"
   ]
  },
  {
   "cell_type": "code",
   "execution_count": 1,
   "id": "c92f583d",
   "metadata": {},
   "outputs": [
    {
     "name": "stdout",
     "output_type": "stream",
     "text": [
      "Input a binary no:110\n",
      "The decimal value of the no is: 2\n",
      "The decimal value of the no is: 6\n"
     ]
    }
   ],
   "source": [
    "b_num=list(input(\"Input a binary no:\"))\n",
    "value=0\n",
    "for i in range(len(b_num)):\n",
    "    digit=b_num.pop()\n",
    "    if digit=='1':\n",
    "        value=value+pow(2,i)\n",
    "        print(\"The decimal value of the no is:\",value)"
   ]
  },
  {
   "cell_type": "code",
   "execution_count": null,
   "id": "26910d89",
   "metadata": {},
   "outputs": [],
   "source": []
  }
 ],
 "metadata": {
  "kernelspec": {
   "display_name": "Python 3 (ipykernel)",
   "language": "python",
   "name": "python3"
  },
  "language_info": {
   "codemirror_mode": {
    "name": "ipython",
    "version": 3
   },
   "file_extension": ".py",
   "mimetype": "text/x-python",
   "name": "python",
   "nbconvert_exporter": "python",
   "pygments_lexer": "ipython3",
   "version": "3.9.13"
  }
 },
 "nbformat": 4,
 "nbformat_minor": 5
}
